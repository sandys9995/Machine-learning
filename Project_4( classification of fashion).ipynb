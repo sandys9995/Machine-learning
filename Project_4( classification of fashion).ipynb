{
 "cells": [
  {
   "cell_type": "code",
   "execution_count": 2,
   "id": "e7d924c6",
   "metadata": {},
   "outputs": [],
   "source": [
    "import numpy as np\n",
    "import pandas as pd\n",
    "import seaborn as sns\n",
    "import matplotlib.pyplot as plt\n",
    "%matplotlib inline"
   ]
  },
  {
   "cell_type": "code",
   "execution_count": 66,
   "id": "9ffa8f87",
   "metadata": {},
   "outputs": [],
   "source": [
    "from tensorflow.keras.datasets import fashion_mnist"
   ]
  },
  {
   "cell_type": "code",
   "execution_count": 67,
   "id": "35c89898",
   "metadata": {},
   "outputs": [],
   "source": [
    "(x_train,y_train),(x_test,y_test)= fashion_mnist.load_data()"
   ]
  },
  {
   "cell_type": "code",
   "execution_count": 85,
   "id": "fff65111",
   "metadata": {},
   "outputs": [
    {
     "name": "stdout",
     "output_type": "stream",
     "text": [
      "(10000, 28, 28, 1)\n",
      "(60000, 28, 28, 1)\n",
      "(10000, 10)\n",
      "(60000, 10)\n"
     ]
    }
   ],
   "source": [
    "print(x_test.shape)\n",
    "print(x_train.shape)\n",
    "print(y_test_cat.shape)\n",
    "print(y_train_cat.shape)"
   ]
  },
  {
   "cell_type": "code",
   "execution_count": 69,
   "id": "b3ad5928",
   "metadata": {},
   "outputs": [],
   "source": [
    "#normalzation \n",
    "x_train= (x_train/255).reshape(60000,28,28,1)\n",
    "x_test=(x_test/255).reshape(10000,28,28,1)"
   ]
  },
  {
   "cell_type": "code",
   "execution_count": 70,
   "id": "41434610",
   "metadata": {},
   "outputs": [
    {
     "data": {
      "text/plain": [
       "<matplotlib.image.AxesImage at 0x11e688efc10>"
      ]
     },
     "execution_count": 70,
     "metadata": {},
     "output_type": "execute_result"
    },
    {
     "data": {
      "image/png": "[encoded data removed]",
      "text/plain": [
       "<Figure size 432x288 with 1 Axes>"
      ]
     },
     "metadata": {
      "needs_background": "light"
     },
     "output_type": "display_data"
    }
   ],
   "source": [
    "plt.imshow(x_train[1])"
   ]
  },
  {
   "cell_type": "code",
   "execution_count": 72,
   "id": "e3dd15ea",
   "metadata": {},
   "outputs": [
    {
     "data": {
      "text/plain": [
       "(60000, 28, 28, 1)"
      ]
     },
     "execution_count": 72,
     "metadata": {},
     "output_type": "execute_result"
    }
   ],
   "source": [
    "x_train.shape"
   ]
  },
  {
   "cell_type": "code",
   "execution_count": 73,
   "id": "70ff5e3e",
   "metadata": {},
   "outputs": [],
   "source": [
    "#convert y into catagoriacal data\n",
    "from tensorflow.keras.utils import to_categorical"
   ]
  },
  {
   "cell_type": "code",
   "execution_count": 74,
   "id": "5b3efbc4",
   "metadata": {},
   "outputs": [],
   "source": [
    "y_train_cat=to_categorical(y_train,10)\n",
    "y_test_cat=to_categorical(y_test,10)"
   ]
  },
  {
   "cell_type": "code",
   "execution_count": 75,
   "id": "5ed34ec6",
   "metadata": {},
   "outputs": [
    {
     "data": {
      "text/plain": [
       "(60000, 10)"
      ]
     },
     "execution_count": 75,
     "metadata": {},
     "output_type": "execute_result"
    }
   ],
   "source": [
    "y_train_cat.shape"
   ]
  },
  {
   "cell_type": "code",
   "execution_count": 94,
   "id": "9b9a6015",
   "metadata": {},
   "outputs": [],
   "source": [
    "#define the model\n",
    "from tensorflow.keras.models import Sequential\n",
    "from tensorflow.keras.layers import Dense,Conv2D, MaxPool2D, Flatten, Dropout\n",
    "from tensorflow.keras.optimizers import Adam, RMSprop, SGD"
   ]
  },
  {
   "cell_type": "code",
   "execution_count": 120,
   "id": "3c3935bb",
   "metadata": {},
   "outputs": [],
   "source": [
    "model=Sequential()\n",
    "\n",
    "# 1. combination of conv and max pool\n",
    "model.add(Conv2D(filters=32,kernel_size=(4,4),activation='relu',input_shape=(28,28,1)))\n",
    "model.add(MaxPool2D(pool_size=(2,2)))\n",
    "#2. combination of conv and max pool\n",
    "model.add(Conv2D(filters=32,kernel_size=(4,4),activation='relu',input_shape=(28,28,1)))\n",
    "model.add(MaxPool2D(pool_size=(2,2)))\n",
    "\n",
    "model\n",
    "#flatten layer: No, this isn't specific to transfer learning. It is used over feature maps in the classification layer, that is easier to interpret and less prone to overfitting than a normal fully connected layer.\n",
    "model.add(Flatten())\n",
    "\n",
    "# 3 dense layer\n",
    "model.add(Dense(256,'relu'))\n",
    "\n",
    "#output layer\n",
    "model.add(Dense(10,'softmax'))\n",
    "\n",
    "# compile\n",
    "model.compile(optimizer='rmsprop',loss='categorical_crossentropy',metrics=['accuracy'])"
   ]
  },
  {
   "cell_type": "code",
   "execution_count": 121,
   "id": "159ea3df",
   "metadata": {},
   "outputs": [
    {
     "name": "stdout",
     "output_type": "stream",
     "text": [
      "Model: \"sequential_6\"\n",
      "_________________________________________________________________\n",
      " Layer (type)                Output Shape              Param #   \n",
      "=================================================================\n",
      " conv2d_15 (Conv2D)          (None, 25, 25, 32)        544       \n",
      "                                                                 \n",
      " max_pooling2d_11 (MaxPoolin  (None, 12, 12, 32)       0         \n",
      " g2D)                                                            \n",
      "                                                                 \n",
      " conv2d_16 (Conv2D)          (None, 9, 9, 32)          16416     \n",
      "                                                                 \n",
      " max_pooling2d_12 (MaxPoolin  (None, 4, 4, 32)         0         \n",
      " g2D)                                                            \n",
      "                                                                 \n",
      " flatten_4 (Flatten)         (None, 512)               0         \n",
      "                                                                 \n",
      " dense_8 (Dense)             (None, 256)               131328    \n",
      "                                                                 \n",
      " dense_9 (Dense)             (None, 10)                2570      \n",
      "                                                                 \n",
      "=================================================================\n",
      "Total params: 150,858\n",
      "Trainable params: 150,858\n",
      "Non-trainable params: 0\n",
      "_________________________________________________________________\n"
     ]
    }
   ],
   "source": [
    "model.summary()"
   ]
  },
  {
   "cell_type": "code",
   "execution_count": 122,
   "id": "6a1ae58f",
   "metadata": {},
   "outputs": [],
   "source": [
    "# early stopping\n",
    "from tensorflow.keras.callbacks import EarlyStopping"
   ]
  },
  {
   "cell_type": "code",
   "execution_count": 123,
   "id": "91c29077",
   "metadata": {},
   "outputs": [],
   "source": [
    "early_stop=EarlyStopping(patience=2)"
   ]
  },
  {
   "cell_type": "code",
   "execution_count": 124,
   "id": "29a42c5e",
   "metadata": {},
   "outputs": [
    {
     "name": "stdout",
     "output_type": "stream",
     "text": [
      "Epoch 1/15\n",
      "1875/1875 [==============================] - 40s 21ms/step - loss: 0.4875 - accuracy: 0.8216 - val_loss: 0.3801 - val_accuracy: 0.8612\n",
      "Epoch 2/15\n",
      "1875/1875 [==============================] - 39s 21ms/step - loss: 0.3250 - accuracy: 0.8820 - val_loss: 0.3294 - val_accuracy: 0.8830\n",
      "Epoch 3/15\n",
      "1875/1875 [==============================] - 39s 21ms/step - loss: 0.2863 - accuracy: 0.8949 - val_loss: 0.3304 - val_accuracy: 0.8790\n",
      "Epoch 4/15\n",
      "1875/1875 [==============================] - 39s 21ms/step - loss: 0.2652 - accuracy: 0.9033 - val_loss: 0.3157 - val_accuracy: 0.8919\n",
      "Epoch 5/15\n",
      "1875/1875 [==============================] - 39s 21ms/step - loss: 0.2523 - accuracy: 0.9099 - val_loss: 0.3103 - val_accuracy: 0.8947\n",
      "Epoch 6/15\n",
      "1875/1875 [==============================] - 38s 20ms/step - loss: 0.2439 - accuracy: 0.9124 - val_loss: 0.3273 - val_accuracy: 0.8957\n",
      "Epoch 7/15\n",
      "1875/1875 [==============================] - 39s 21ms/step - loss: 0.2384 - accuracy: 0.9147 - val_loss: 0.3169 - val_accuracy: 0.8899\n"
     ]
    },
    {
     "data": {
      "text/plain": [
       "<keras.callbacks.History at 0x11e04b08190>"
      ]
     },
     "execution_count": 124,
     "metadata": {},
     "output_type": "execute_result"
    }
   ],
   "source": [
    "model.fit(x=x_train, y=y_train_cat,epochs=15,callbacks=early_stop,validation_data=(x_test,y_test_cat))"
   ]
  },
  {
   "cell_type": "code",
   "execution_count": 126,
   "id": "82680902",
   "metadata": {},
   "outputs": [],
   "source": [
    "loss=pd.DataFrame(model.history.history)"
   ]
  },
  {
   "cell_type": "code",
   "execution_count": 117,
   "id": "e5f9f22e",
   "metadata": {},
   "outputs": [
    {
     "data": {
      "text/plain": [
       "[0.31771817803382874, 0.8968999981880188]"
      ]
     },
     "execution_count": 117,
     "metadata": {},
     "output_type": "execute_result"
    }
   ],
   "source": [
    "model.evaluate(x_test,y_test_cat, verbose=0)"
   ]
  },
  {
   "cell_type": "code",
   "execution_count": 114,
   "id": "dafff8ef",
   "metadata": {},
   "outputs": [],
   "source": [
    "#loss[['loss','val_loss']].plot() ### with optimizer = 'adam' accurracy 0.9 after 6 steps"
   ]
  },
  {
   "cell_type": "code",
   "execution_count": 102,
   "id": "3d208662",
   "metadata": {},
   "outputs": [
    {
     "data": {
      "text/plain": [
       "<AxesSubplot:>"
      ]
     },
     "execution_count": 102,
     "metadata": {},
     "output_type": "execute_result"
    },
    {
     "data": {
      "image/png": "[encoded data removed]",
      "text/plain": [
       "<Figure size 432x288 with 1 Axes>"
      ]
     },
     "metadata": {
      "needs_background": "light"
     },
     "output_type": "display_data"
    }
   ],
   "source": [
    "#loss[['loss','val_loss']].plot() ## with = \"SGD\" = [0.35296934843063354, 0.8725000023841858] after 14 steps"
   ]
  },
  {
   "cell_type": "code",
   "execution_count": 128,
   "id": "085df12b",
   "metadata": {},
   "outputs": [
    {
     "data": {
      "text/plain": [
       "<AxesSubplot:>"
      ]
     },
     "execution_count": 128,
     "metadata": {},
     "output_type": "execute_result"
    },
    {
     "data": {
      "image/png": "[encoded data removed]",
      "text/plain": [
       "<Figure size 432x288 with 1 Axes>"
      ]
     },
     "metadata": {
      "needs_background": "light"
     },
     "output_type": "display_data"
    }
   ],
   "source": [
    "loss[['loss','val_loss']].plot()"
   ]
  },
  {
   "cell_type": "code",
   "execution_count": 151,
   "id": "0b9406fe",
   "metadata": {},
   "outputs": [],
   "source": [
    "\n",
    "#predictions \n",
    "def pred(x):\n",
    "    \n",
    "    class_names = ['T-shirt/top','Trouser','Pullover','Dress','Coat','Sandal','Shirt','Sneaker','Bag' , 'Ankle boot']\n",
    "    print(plt.imshow(x_test[x],cmap='rainbow'))\n",
    "\n",
    "    return class_names[np.argmax(model.predict(x_test[x].reshape(1,28,28,1)))]\n",
    "    "
   ]
  },
  {
   "cell_type": "code",
   "execution_count": 153,
   "id": "a597e098",
   "metadata": {},
   "outputs": [
    {
     "name": "stdout",
     "output_type": "stream",
     "text": [
      "AxesImage(54,36;334.8x217.44)\n"
     ]
    },
    {
     "data": {
      "text/plain": [
       "'Coat'"
      ]
     },
     "execution_count": 153,
     "metadata": {},
     "output_type": "execute_result"
    },
    {
     "data": {
      "image/png": "[encoded data removed]",
      "text/plain": [
       "<Figure size 432x288 with 1 Axes>"
      ]
     },
     "metadata": {
      "needs_background": "light"
     },
     "output_type": "display_data"
    }
   ],
   "source": [
    "pred(10)"
   ]
  },
  {
   "cell_type": "code",
   "execution_count": null,
   "id": "26370659",
   "metadata": {},
   "outputs": [],
   "source": []
  }
 ],
 "metadata": {
  "kernelspec": {
   "display_name": "Python 3 (ipykernel)",
   "language": "python",
   "name": "python3"
  },
  "language_info": {
   "codemirror_mode": {
    "name": "ipython",
    "version": 3
   },
   "file_extension": ".py",
   "mimetype": "text/x-python",
   "name": "python",
   "nbconvert_exporter": "python",
   "pygments_lexer": "ipython3",
   "version": "3.9.7"
  }
 },
 "nbformat": 4,
 "nbformat_minor": 5
}
