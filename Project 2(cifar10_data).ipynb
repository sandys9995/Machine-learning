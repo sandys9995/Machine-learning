{
 "cells": [
  {
   "cell_type": "code",
   "execution_count": 1,
   "id": "d4462ced",
   "metadata": {},
   "outputs": [],
   "source": [
    "import numpy as np\n",
    "import pandas as pd\n",
    "import seaborn as sns\n",
    "import matplotlib.pyplot as plt\n",
    "%matplotlib inline"
   ]
  },
  {
   "cell_type": "code",
   "execution_count": 2,
   "id": "39e99dd8",
   "metadata": {},
   "outputs": [],
   "source": [
    "## for color pictures\n",
    "from tensorflow.keras.datasets import cifar10"
   ]
  },
  {
   "cell_type": "code",
   "execution_count": 5,
   "id": "ff5d0b25",
   "metadata": {},
   "outputs": [],
   "source": [
    "(x_train,y_train),(x_test,y_test)=cifar10.load_data()"
   ]
  },
  {
   "cell_type": "code",
   "execution_count": 8,
   "id": "b3c765c8",
   "metadata": {},
   "outputs": [
    {
     "data": {
      "text/plain": [
       "<matplotlib.image.AxesImage at 0x19958f80280>"
      ]
     },
     "execution_count": 8,
     "metadata": {},
     "output_type": "execute_result"
    },
    {
     "data": {
      "image/png": "[encoded data removed]",
      "text/plain": [
       "<Figure size 432x288 with 1 Axes>"
      ]
     },
     "metadata": {
      "needs_background": "light"
     },
     "output_type": "display_data"
    }
   ],
   "source": [
    "plt.imshow(x_train[16])"
   ]
  },
  {
   "cell_type": "code",
   "execution_count": 14,
   "id": "921a2345",
   "metadata": {},
   "outputs": [],
   "source": [
    "#normalize the input data\n",
    "x_test=x_test/255\n",
    "x_train=x_train/255"
   ]
  },
  {
   "cell_type": "code",
   "execution_count": 26,
   "id": "011d6623",
   "metadata": {},
   "outputs": [
    {
     "data": {
      "text/plain": [
       "(50000, 32, 32, 3)"
      ]
     },
     "execution_count": 26,
     "metadata": {},
     "output_type": "execute_result"
    }
   ],
   "source": [
    "x_train.shape"
   ]
  },
  {
   "cell_type": "code",
   "execution_count": 19,
   "id": "6b87a6bd",
   "metadata": {},
   "outputs": [],
   "source": [
    "from tensorflow.keras.utils import to_categorical"
   ]
  },
  {
   "cell_type": "code",
   "execution_count": 20,
   "id": "7beceac6",
   "metadata": {},
   "outputs": [],
   "source": [
    "y_train_cat=to_categorical(y_train,10)\n",
    "y_test_cat=to_categorical(y_test,10)"
   ]
  },
  {
   "cell_type": "code",
   "execution_count": 28,
   "id": "85177deb",
   "metadata": {},
   "outputs": [],
   "source": [
    "## define the model\n",
    "from tensorflow.keras.models import Sequential\n",
    "from tensorflow.keras.layers import Dense,Conv2D,MaxPooling2D,Flatten"
   ]
  },
  {
   "cell_type": "code",
   "execution_count": 29,
   "id": "05697fb7",
   "metadata": {},
   "outputs": [],
   "source": [
    "model=Sequential()\n",
    "# 1st convulation layer\n",
    "model.add(Conv2D(filters=32,kernel_size=(4,4),activation='relu',input_shape=(32,32,3)))\n",
    "# 1st maxpool layer\n",
    "model.add(MaxPooling2D())\n",
    "# 2nd convulation layer\n",
    "model.add(Conv2D(filters=32,kernel_size=(4,4),activation='relu',input_shape=(32,32,3)))\n",
    "# 2nd maxpool layer\n",
    "model.add(MaxPooling2D())\n",
    "## flatten the input \n",
    "model.add(Flatten())\n",
    "\n",
    "## fully connected layer\n",
    "model.add(Dense(256,activation=\"relu\"))\n",
    "\n",
    "## output layer \n",
    "model.add(Dense(10,activation=\"softmax\"))\n",
    "\n",
    "#compile\n",
    "model.compile(loss='categorical_crossentropy', optimizer='adam', metrics=['accuracy'])"
   ]
  },
  {
   "cell_type": "code",
   "execution_count": 30,
   "id": "0c9ee5ae",
   "metadata": {},
   "outputs": [],
   "source": [
    "from tensorflow.keras.callbacks import EarlyStopping"
   ]
  },
  {
   "cell_type": "code",
   "execution_count": 35,
   "id": "dbd3bb16",
   "metadata": {},
   "outputs": [
    {
     "name": "stdout",
     "output_type": "stream",
     "text": [
      "Model: \"sequential\"\n",
      "_________________________________________________________________\n",
      " Layer (type)                Output Shape              Param #   \n",
      "=================================================================\n",
      " conv2d (Conv2D)             (None, 29, 29, 32)        1568      \n",
      "                                                                 \n",
      " max_pooling2d (MaxPooling2D  (None, 14, 14, 32)       0         \n",
      " )                                                               \n",
      "                                                                 \n",
      " conv2d_1 (Conv2D)           (None, 11, 11, 32)        16416     \n",
      "                                                                 \n",
      " max_pooling2d_1 (MaxPooling  (None, 5, 5, 32)         0         \n",
      " 2D)                                                             \n",
      "                                                                 \n",
      " flatten (Flatten)           (None, 800)               0         \n",
      "                                                                 \n",
      " dense (Dense)               (None, 256)               205056    \n",
      "                                                                 \n",
      " dense_1 (Dense)             (None, 10)                2570      \n",
      "                                                                 \n",
      "=================================================================\n",
      "Total params: 225,610\n",
      "Trainable params: 225,610\n",
      "Non-trainable params: 0\n",
      "_________________________________________________________________\n"
     ]
    }
   ],
   "source": [
    "model.summary()"
   ]
  },
  {
   "cell_type": "code",
   "execution_count": 36,
   "id": "82707729",
   "metadata": {},
   "outputs": [],
   "source": [
    "early_stopping=EarlyStopping(monitor='val_loss',patience=3)"
   ]
  },
  {
   "cell_type": "code",
   "execution_count": 37,
   "id": "ab53ebf6",
   "metadata": {},
   "outputs": [
    {
     "name": "stdout",
     "output_type": "stream",
     "text": [
      "Epoch 1/15\n",
      "1563/1563 [==============================] - 29s 18ms/step - loss: 1.5179 - accuracy: 0.4496 - val_loss: 1.2588 - val_accuracy: 0.5524\n",
      "Epoch 2/15\n",
      "1563/1563 [==============================] - 32s 21ms/step - loss: 1.1791 - accuracy: 0.5829 - val_loss: 1.1509 - val_accuracy: 0.5902\n",
      "Epoch 3/15\n",
      "1563/1563 [==============================] - 33s 21ms/step - loss: 1.0384 - accuracy: 0.6340 - val_loss: 1.0424 - val_accuracy: 0.6382\n",
      "Epoch 4/15\n",
      "1563/1563 [==============================] - 32s 21ms/step - loss: 0.9337 - accuracy: 0.6737 - val_loss: 0.9892 - val_accuracy: 0.6573\n",
      "Epoch 5/15\n",
      "1563/1563 [==============================] - 32s 20ms/step - loss: 0.8455 - accuracy: 0.7046 - val_loss: 1.0014 - val_accuracy: 0.6581\n",
      "Epoch 6/15\n",
      "1563/1563 [==============================] - 32s 20ms/step - loss: 0.7745 - accuracy: 0.7289 - val_loss: 0.9558 - val_accuracy: 0.6770\n",
      "Epoch 7/15\n",
      "1563/1563 [==============================] - 32s 20ms/step - loss: 0.7120 - accuracy: 0.7517 - val_loss: 0.9432 - val_accuracy: 0.6805\n",
      "Epoch 8/15\n",
      "1563/1563 [==============================] - 32s 21ms/step - loss: 0.6486 - accuracy: 0.7736 - val_loss: 0.9631 - val_accuracy: 0.6860\n",
      "Epoch 9/15\n",
      "1563/1563 [==============================] - 32s 21ms/step - loss: 0.5879 - accuracy: 0.7942 - val_loss: 0.9926 - val_accuracy: 0.6898\n",
      "Epoch 10/15\n",
      "1563/1563 [==============================] - 31s 20ms/step - loss: 0.5338 - accuracy: 0.8115 - val_loss: 1.0594 - val_accuracy: 0.6659\n"
     ]
    },
    {
     "data": {
      "text/plain": [
       "<keras.callbacks.History at 0x19959688d00>"
      ]
     },
     "execution_count": 37,
     "metadata": {},
     "output_type": "execute_result"
    }
   ],
   "source": [
    "model.fit(x=x_train,y=y_train_cat,epochs=15,validation_data=(x_test,y_test_cat),callbacks=early_stopping)"
   ]
  },
  {
   "cell_type": "code",
   "execution_count": 38,
   "id": "f9c4dcef",
   "metadata": {},
   "outputs": [],
   "source": [
    "loss=pd.DataFrame(model.history.history)"
   ]
  },
  {
   "cell_type": "code",
   "execution_count": 44,
   "id": "62a77220",
   "metadata": {},
   "outputs": [
    {
     "data": {
      "text/plain": [
       "<AxesSubplot:>"
      ]
     },
     "execution_count": 44,
     "metadata": {},
     "output_type": "execute_result"
    },
    {
     "data": {
      "image/png": "[encoded data removed]",
      "text/plain": [
       "<Figure size 432x288 with 1 Axes>"
      ]
     },
     "metadata": {
      "needs_background": "light"
     },
     "output_type": "display_data"
    }
   ],
   "source": [
    "loss[['loss','val_loss']].plot()"
   ]
  },
  {
   "cell_type": "code",
   "execution_count": 69,
   "id": "b393734b",
   "metadata": {},
   "outputs": [
    {
     "data": {
      "text/plain": [
       "<matplotlib.image.AxesImage at 0x19961c97580>"
      ]
     },
     "execution_count": 69,
     "metadata": {},
     "output_type": "execute_result"
    },
    {
     "data": {
      "image/png": "[encoded data removed]",
      "text/plain": [
       "<Figure size 432x288 with 1 Axes>"
      ]
     },
     "metadata": {
      "needs_background": "light"
     },
     "output_type": "display_data"
    }
   ],
   "source": [
    "plt.imshow(x_test[122])"
   ]
  },
  {
   "cell_type": "code",
   "execution_count": 63,
   "id": "3de0f68f",
   "metadata": {},
   "outputs": [],
   "source": [
    "class_names = ['airplane', 'automobile', 'bird', 'cat', 'deer',\n",
    "               'dog', 'frog', 'horse', 'ship', 'truck']"
   ]
  },
  {
   "cell_type": "code",
   "execution_count": 70,
   "id": "f08a6438",
   "metadata": {},
   "outputs": [
    {
     "data": {
      "text/plain": [
       "'automobile'"
      ]
     },
     "execution_count": 70,
     "metadata": {},
     "output_type": "execute_result"
    }
   ],
   "source": [
    "class_names[np.argmax(model.predict(x_test[122].reshape(1,32,32,3)))]"
   ]
  },
  {
   "cell_type": "code",
   "execution_count": null,
   "id": "e68cec40",
   "metadata": {},
   "outputs": [],
   "source": []
  }
 ],
 "metadata": {
  "kernelspec": {
   "display_name": "Python 3 (ipykernel)",
   "language": "python",
   "name": "python3"
  },
  "language_info": {
   "codemirror_mode": {
    "name": "ipython",
    "version": 3
   },
   "file_extension": ".py",
   "mimetype": "text/x-python",
   "name": "python",
   "nbconvert_exporter": "python",
   "pygments_lexer": "ipython3",
   "version": "3.9.7"
  }
 },
 "nbformat": 4,
 "nbformat_minor": 5
}
